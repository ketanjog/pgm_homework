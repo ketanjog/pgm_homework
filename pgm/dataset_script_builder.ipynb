{
 "cells": [
  {
   "cell_type": "markdown",
   "id": "63e0f6e8",
   "metadata": {},
   "source": [
    "## Tf-idf and tokenisation script building"
   ]
  },
  {
   "cell_type": "code",
   "execution_count": 1,
   "id": "8800727d",
   "metadata": {},
   "outputs": [
    {
     "name": "stderr",
     "output_type": "stream",
     "text": [
      "/Users/ketanjog/Documents/Columbia_Classes/Year_5/Semester_9/pgm/homework/homework_01/venv/lib/python3.9/site-packages/tqdm/auto.py:22: TqdmWarning: IProgress not found. Please update jupyter and ipywidgets. See https://ipywidgets.readthedocs.io/en/stable/user_install.html\n",
      "  from .autonotebook import tqdm as notebook_tqdm\n",
      "[nltk_data] Downloading package stopwords to\n",
      "[nltk_data]     /Users/ketanjog/nltk_data...\n",
      "[nltk_data]   Package stopwords is already up-to-date!\n"
     ]
    },
    {
     "data": {
      "text/plain": [
       "True"
      ]
     },
     "execution_count": 1,
     "metadata": {},
     "output_type": "execute_result"
    }
   ],
   "source": [
    "import torch\n",
    "import numpy as np\n",
    "import pandas as pd\n",
    "import nltk\n",
    "from pgm.constants.paths import IMDB_VOCAB_PATH\n",
    "from pgm.data.load_imdb import get_imdb_dataset\n",
    "from tqdm import tqdm\n",
    "from sklearn.feature_extraction.text import TfidfVectorizer\n",
    "\n",
    "import ssl\n",
    "try:\n",
    "    _create_unverified_https_context = ssl._create_unverified_context\n",
    "except AttributeError:\n",
    "    pass\n",
    "else:\n",
    "    ssl._create_default_https_context = _create_unverified_https_context\n",
    "\n",
    "nltk.download('stopwords')"
   ]
  },
  {
   "cell_type": "code",
   "execution_count": 30,
   "id": "5d6545cc",
   "metadata": {},
   "outputs": [
    {
     "ename": "ImportError",
     "evalue": "cannot import name 'SVD_IMDB_PATH' from 'pgm.constants.paths' (/Users/ketanjog/Documents/Columbia_Classes/Year_5/Semester_9/pgm/homework/homework_01/pgm/constants/paths.py)",
     "output_type": "error",
     "traceback": [
      "\u001b[0;31m---------------------------------------------------------------------------\u001b[0m",
      "\u001b[0;31mImportError\u001b[0m                               Traceback (most recent call last)",
      "Cell \u001b[0;32mIn [30], line 2\u001b[0m\n\u001b[1;32m      1\u001b[0m \u001b[38;5;28;01mimport\u001b[39;00m \u001b[38;5;21;01mos\u001b[39;00m\n\u001b[0;32m----> 2\u001b[0m \u001b[38;5;28;01mfrom\u001b[39;00m \u001b[38;5;21;01mpgm\u001b[39;00m\u001b[38;5;21;01m.\u001b[39;00m\u001b[38;5;21;01mconstants\u001b[39;00m\u001b[38;5;21;01m.\u001b[39;00m\u001b[38;5;21;01mpaths\u001b[39;00m \u001b[38;5;28;01mimport\u001b[39;00m SVD_IMDB_PATH\n",
      "\u001b[0;31mImportError\u001b[0m: cannot import name 'SVD_IMDB_PATH' from 'pgm.constants.paths' (/Users/ketanjog/Documents/Columbia_Classes/Year_5/Semester_9/pgm/homework/homework_01/pgm/constants/paths.py)"
     ]
    }
   ],
   "source": [
    "import os\n",
    "from pgm.constants.paths import SVD_IMDB_PATH"
   ]
  },
  {
   "cell_type": "code",
   "execution_count": 2,
   "id": "67d0ed74",
   "metadata": {},
   "outputs": [],
   "source": [
    "data = get_imdb_dataset(dataframe=True)"
   ]
  },
  {
   "cell_type": "code",
   "execution_count": 3,
   "id": "3aa919a8",
   "metadata": {},
   "outputs": [],
   "source": [
    "vectorizer = TfidfVectorizer()\n",
    "X = vectorizer.fit_transform(data['review'].tolist())"
   ]
  },
  {
   "cell_type": "code",
   "execution_count": 11,
   "id": "857791e7",
   "metadata": {},
   "outputs": [],
   "source": [
    "from sklearn.decomposition import TruncatedSVD\n",
    "svd = TruncatedSVD(n_components=100, n_iter=7, random_state=42)"
   ]
  },
  {
   "cell_type": "code",
   "execution_count": 17,
   "id": "409ca418",
   "metadata": {},
   "outputs": [
    {
     "data": {
      "text/plain": [
       "TruncatedSVD(n_components=100, n_iter=7, random_state=42)"
      ]
     },
     "execution_count": 17,
     "metadata": {},
     "output_type": "execute_result"
    }
   ],
   "source": [
    "svd.fit(X)"
   ]
  },
  {
   "cell_type": "code",
   "execution_count": 18,
   "id": "1f649cf3",
   "metadata": {},
   "outputs": [
    {
     "data": {
      "text/plain": [
       "(100, 101895)"
      ]
     },
     "execution_count": 18,
     "metadata": {},
     "output_type": "execute_result"
    }
   ],
   "source": [
    "svd.components_.shape"
   ]
  },
  {
   "cell_type": "code",
   "execution_count": 19,
   "id": "c9aa6742",
   "metadata": {},
   "outputs": [],
   "source": [
    "data_ = svd.transform(X)"
   ]
  },
  {
   "cell_type": "code",
   "execution_count": 20,
   "id": "dee2fb67",
   "metadata": {},
   "outputs": [
    {
     "data": {
      "text/plain": [
       "(50001, 100)"
      ]
     },
     "execution_count": 20,
     "metadata": {},
     "output_type": "execute_result"
    }
   ],
   "source": [
    "data_.shape"
   ]
  },
  {
   "cell_type": "code",
   "execution_count": 24,
   "id": "eb9832de",
   "metadata": {},
   "outputs": [
    {
     "data": {
      "text/plain": [
       "numpy.ndarray"
      ]
     },
     "execution_count": 24,
     "metadata": {},
     "output_type": "execute_result"
    }
   ],
   "source": [
    "type(data_)"
   ]
  },
  {
   "cell_type": "code",
   "execution_count": 29,
   "id": "482cda06",
   "metadata": {},
   "outputs": [],
   "source": [
    "import pickle as pkl"
   ]
  },
  {
   "cell_type": "code",
   "execution_count": 33,
   "id": "c839d7c5",
   "metadata": {},
   "outputs": [],
   "source": [
    "pth = os.path.join(\"/Users/ketanjog/Documents/Columbia_Classes/Year_5/Semester_9/pgm/homework/homework_01/etc/svd_imdb_100\", \"imdb_svd_data.pkl\")\n",
    "pkl.dump(data_, open(pth, \"wb\"))"
   ]
  },
  {
   "cell_type": "code",
   "execution_count": 34,
   "id": "73f1e08c",
   "metadata": {},
   "outputs": [
    {
     "data": {
      "text/plain": [
       "4"
      ]
     },
     "execution_count": 34,
     "metadata": {},
     "output_type": "execute_result"
    }
   ],
   "source": [
    "2+2"
   ]
  },
  {
   "cell_type": "code",
   "execution_count": null,
   "id": "023646fb",
   "metadata": {},
   "outputs": [],
   "source": []
  }
 ],
 "metadata": {
  "kernelspec": {
   "display_name": "pgmkernel",
   "language": "python",
   "name": "venv"
  },
  "language_info": {
   "codemirror_mode": {
    "name": "ipython",
    "version": 3
   },
   "file_extension": ".py",
   "mimetype": "text/x-python",
   "name": "python",
   "nbconvert_exporter": "python",
   "pygments_lexer": "ipython3",
   "version": "3.9.6"
  }
 },
 "nbformat": 4,
 "nbformat_minor": 5
}
